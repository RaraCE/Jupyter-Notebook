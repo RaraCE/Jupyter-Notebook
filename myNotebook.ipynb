{
 "cells": [
  {
   "cell_type": "markdown",
   "id": "8e5cd198-f25a-4612-95c6-547361f17b38",
   "metadata": {},
   "source": [
    "# My_Notebook"
   ]
  },
  {
   "cell_type": "markdown",
   "id": "c8f29eea-123c-4023-bb46-e0031a4e52f0",
   "metadata": {},
   "source": [
    "### Jupyter Notebook Assignment"
   ]
  },
  {
   "cell_type": "code",
   "execution_count": null,
   "id": "568de5f9-cc32-4547-8084-950276e88a7f",
   "metadata": {},
   "outputs": [],
   "source": [
    "For an online class - final assignment. Learning how to list items, and p"
   ]
  },
  {
   "cell_type": "markdown",
   "id": "8d627533-b5af-4865-93f4-2e4b521d9cd6",
   "metadata": {},
   "source": [
    "#### Data Science Languages:\n",
    "1. Python\n",
    "2. R\n",
    "3. SQL\n",
    "4. Java\n",
    "5. Julia\n",
    "6. Scala\n",
    "7. C++\n",
    "8. JavaScript"
   ]
  },
  {
   "cell_type": "markdown",
   "id": "60c9b15e-a79f-4f80-9dc0-03fb932599af",
   "metadata": {},
   "source": [
    "#### Data Science Libraries:\n",
    "1. Pandas\n",
    "2. NumPy\n",
    "3. Matplotlib\n",
    "4. Seaborn\n",
    "5. Sciki-learn\n",
    "6. Keras\n",
    "7. TensorFlow\n",
    "8. PyTorch\n",
    "9. SciPy"
   ]
  },
  {
   "cell_type": "markdown",
   "id": "9be8b115-8b7d-4d98-ac53-f8b032e8211c",
   "metadata": {},
   "source": [
    "#### Data Science Tools:\n",
    "* Data Management\n",
    "* Data Integration and Transformation\n",
    "* Data Visualization\n",
    "* Model Building\n",
    "* Model Deployment\n",
    "* Model Monitoring and Assessment"
   ]
  },
  {
   "cell_type": "code",
   "execution_count": 8,
   "id": "7c75dd0f-af95-4684-b473-dcc980aa3487",
   "metadata": {},
   "outputs": [
    {
     "data": {
      "text/plain": [
       "20"
      ]
     },
     "execution_count": 8,
     "metadata": {},
     "output_type": "execute_result"
    }
   ],
   "source": [
    "# arithmetic examples, including multiplication and addition\n",
    "6*9\n",
    "4*180\n",
    "440 / 40\n",
    "(6 + 4) * 2"
   ]
  },
  {
   "cell_type": "code",
   "execution_count": 12,
   "id": "848ed741-7731-4cac-9fb4-b6130899bffa",
   "metadata": {},
   "outputs": [
    {
     "data": {
      "text/plain": [
       "1.5"
      ]
     },
     "execution_count": 12,
     "metadata": {},
     "output_type": "execute_result"
    }
   ],
   "source": [
    "# convert minutes to hours\n",
    "minutes = 90\n",
    "hours = minutes / 60\n",
    "hours"
   ]
  },
  {
   "cell_type": "markdown",
   "id": "44aadf8b-4a85-4ad5-bafb-bb767bdfe466",
   "metadata": {},
   "source": [
    "#### objectives:\n",
    "\n",
    "1. Identify the problem and establish a clear understanding of it\n",
    "2. Gather the data for analysis\n",
    "3. Identify the right tools for use\n",
    "4. Develop a data strategy"
   ]
  }
 ],
 "metadata": {
  "kernelspec": {
   "display_name": "Python [conda env:base] *",
   "language": "python",
   "name": "conda-base-py"
  },
  "language_info": {
   "codemirror_mode": {
    "name": "ipython",
    "version": 3
   },
   "file_extension": ".py",
   "mimetype": "text/x-python",
   "name": "python",
   "nbconvert_exporter": "python",
   "pygments_lexer": "ipython3",
   "version": "3.12.9"
  }
 },
 "nbformat": 4,
 "nbformat_minor": 5
}
